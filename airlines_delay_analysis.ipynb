{
 "cells": [
  {
   "cell_type": "markdown",
   "id": "5322358a",
   "metadata": {},
   "source": [
    "\n",
    "# Havayolu Rötar Analizi (Airlines Delay Analysis)\n",
    "\n",
    "Bu çalışma, GitHub üzerinde bulunan **airlens.csv** veri seti kullanılarak uçuş rötarlarını analiz eder. \n",
    "Hedefler:\n",
    "- Rötara etki eden faktörleri belirlemek (hava yolu, hat, şehir/ülke, saat, gün vb.)\n",
    "- Zaman serisi trendlerini ve mevsimselliği incelemek\n",
    "- Basit sınıflandırma modeli ile **rötar olur/olmaz** tahmini yapmak\n",
    "\n",
    "**English:** This project analyzes flight delays using the **airlens.csv** dataset. We explore drivers of delays, time series patterns, and train a simple classifier to predict whether a flight will be delayed.\n"
   ]
  },
  {
   "cell_type": "markdown",
   "id": "aec625d7",
   "metadata": {},
   "source": [
    "\n",
    "## Kurulum ve Çalıştırma\n",
    "\n",
    "- Python 3.10+ önerilir. Aşağıdaki paketler gereklidir (requirements.txt dosyasında da var):\n",
    "  - pandas, numpy, matplotlib, seaborn, scikit-learn, statsmodels, pyarrow (opsiyonel, hızlı okuma için)\n",
    "- Dosya: `airlens.csv` bu notebook ile aynı klasörde veya `data/` altında bulunabilir.\n",
    "\n",
    "> **Not:** Veri şemanız farklıysa (sütun adları), aşağıdaki **Akıllı Sütun Eşleştirme** bölümünde anahtar sütunlar otomatik bulunmaya çalışılır.\n"
   ]
  },
  {
   "cell_type": "code",
   "execution_count": null,
   "id": "68ae9a0f",
   "metadata": {},
   "outputs": [],
   "source": [
    "\n",
    "# Gerekli kütüphaneler\n",
    "import os\n",
    "import pandas as pd\n",
    "import numpy as np\n",
    "import matplotlib.pyplot as plt\n",
    "import seaborn as sns\n",
    "from sklearn.model_selection import train_test_split\n",
    "from sklearn.preprocessing import OneHotEncoder\n",
    "from sklearn.compose import ColumnTransformer\n",
    "from sklearn.pipeline import Pipeline\n",
    "from sklearn.metrics import classification_report, roc_auc_score\n",
    "from sklearn.linear_model import LogisticRegression\n",
    "from sklearn.ensemble import RandomForestClassifier\n",
    "from statsmodels.tsa.seasonal import seasonal_decompose\n",
    "from datetime import datetime\n",
    "\n",
    "pd.set_option('display.max_columns', 120)\n",
    "pd.set_option('display.width', 140)\n"
   ]
  },
  {
   "cell_type": "code",
   "execution_count": null,
   "id": "18204f88",
   "metadata": {},
   "outputs": [],
   "source": [
    "\n",
    "# Dosya konumu (gerekirse burayı düzenleyin)\n",
    "DATA_PATH_CANDIDATES = [\n",
    "    'airlens.csv',\n",
    "    'data/airlens.csv',\n",
    "    'airlines.csv',\n",
    "    'data/airlines.csv'\n",
    "]\n",
    "\n",
    "DATA_PATH = None\n",
    "for p in DATA_PATH_CANDIDATES:\n",
    "    if os.path.exists(p):\n",
    "        DATA_PATH = p\n",
    "        break\n",
    "\n",
    "if DATA_PATH is None:\n",
    "    print(\"UYARI: Veri dosyası bulunamadı. Lütfen 'airlens.csv' dosyasını bu klasöre veya 'data/' klasörüne koyun ve yeniden çalıştırın.\")\n",
    "else:\n",
    "    print(f\"Veri dosyası bulundu: {DATA_PATH}\")\n"
   ]
  },
  {
   "cell_type": "code",
   "execution_count": null,
   "id": "3d9f870e",
   "metadata": {},
   "outputs": [],
   "source": [
    "\n",
    "# Veriyi yükleme\n",
    "if DATA_PATH is not None:\n",
    "    try:\n",
    "        df = pd.read_csv(DATA_PATH, low_memory=False)\n",
    "    except Exception as e:\n",
    "        print(\"Veri okuma sırasında hata:\", e)\n",
    "        raise e\n",
    "\n",
    "    print(\"Boyut:\", df.shape)\n",
    "    display(df.head())\n",
    "    display(df.tail())\n",
    "    display(df.sample(min(5, len(df))))\n",
    "\n",
    "    print(\"\\n--- INFO ---\")\n",
    "    print(df.info())\n",
    "\n",
    "    print(\"\\nEksik değer sayıları:\")\n",
    "    display(df.isna().sum().sort_values(ascending=False).head(20))\n"
   ]
  },
  {
   "cell_type": "markdown",
   "id": "27079202",
   "metadata": {},
   "source": [
    "\n",
    "## Akıllı Sütun Eşleştirme (Smart Column Mapping)\n",
    "Aşağıdaki hücre, veri setindeki muhtemel sütunları (tarih, kalkış/varış gecikmesi, havayolu, kalkış-varış havaalanı vb.) otomatik olarak bulmaya çalışır.\n"
   ]
  },
  {
   "cell_type": "code",
   "execution_count": null,
   "id": "723d9396",
   "metadata": {},
   "outputs": [],
   "source": [
    "\n",
    "# Anahtar sütun isimlerini olası varyasyonlara göre bulma\n",
    "def find_col(candidates):\n",
    "    for c in candidates:\n",
    "        for col in df.columns:\n",
    "            if col.strip().lower() == c:\n",
    "                return col\n",
    "    for c in candidates:\n",
    "        for col in df.columns:\n",
    "            if c in col.strip().lower():\n",
    "                return col\n",
    "    return None\n",
    "\n",
    "col_map = {}\n",
    "col_map['date'] = find_col(['date', 'fl_date', 'flight_date', 'scheduled_departure', 'time', 'timestamp'])\n",
    "col_map['carrier'] = find_col(['airline', 'carrier', 'unique_carrier', 'airline_name'])\n",
    "col_map['origin'] = find_col(['origin', 'origin_airport', 'origin_city', 'from'])\n",
    "col_map['dest'] = find_col(['dest', 'destination', 'dest_airport', 'to'])\n",
    "col_map['dep_delay'] = find_col(['dep_delay', 'departure_delay', 'depart_delay'])\n",
    "col_map['arr_delay'] = find_col(['arr_delay', 'arrival_delay', 'arrive_delay'])\n",
    "col_map['cancelled'] = find_col(['cancelled', 'canceled', 'is_cancelled'])\n",
    "col_map['diverted'] = find_col(['diverted', 'is_diverted'])\n",
    "col_map['country'] = find_col(['country'])\n",
    "col_map['city'] = find_col(['city'])\n",
    "\n",
    "col_map\n"
   ]
  },
  {
   "cell_type": "code",
   "execution_count": null,
   "id": "890028b1",
   "metadata": {},
   "outputs": [],
   "source": [
    "\n",
    "# Tarih sütununu parse et ve temel zaman özelliklerini çıkar\n",
    "if 'df' in globals() and len(df) > 0 and col_map['date'] is not None:\n",
    "    df[col_map['date']] = pd.to_datetime(df[col_map['date']], errors='coerce')\n",
    "    df['year'] = df[col_map['date']].dt.year\n",
    "    df['month'] = df[col_map['date']].dt.month\n",
    "    df['day'] = df[col_map['date']].dt.day\n",
    "    df['dayofweek'] = df[col_map['date']].dt.dayofweek\n",
    "    df['hour'] = df[col_map['date']].dt.hour\n",
    "else:\n",
    "    print(\"Not: Tarih sütunu bulunamadı, zaman bazlı özellikler oluşturulmadı.\")\n"
   ]
  },
  {
   "cell_type": "markdown",
   "id": "5a66eb6f",
   "metadata": {},
   "source": [
    "\n",
    "## Hedef Değişken (Target) — `is_delayed`\n",
    "Eğer `arr_delay` veya `dep_delay` ≥ 15 dk ise 1 (rötarlı), aksi halde 0.\n"
   ]
  },
  {
   "cell_type": "code",
   "execution_count": null,
   "id": "5489d6ab",
   "metadata": {},
   "outputs": [],
   "source": [
    "\n",
    "# is_delayed hedefini oluştur\n",
    "if 'df' in globals() and len(df) > 0:\n",
    "    df['dep_delay_filled'] = df[col_map['dep_delay']].fillna(0) if col_map['dep_delay'] else 0\n",
    "    df['arr_delay_filled'] = df[col_map['arr_delay']].fillna(0) if col_map['arr_delay'] else 0\n",
    "\n",
    "    if (col_map['dep_delay'] is not None) or (col_map['arr_delay'] is not None):\n",
    "        delays = []\n",
    "        for i in range(len(df)):\n",
    "            dd = df['dep_delay_filled'].iloc[i] if col_map['dep_delay'] else 0\n",
    "            ad = df['arr_delay_filled'].iloc[i] if col_map['arr_delay'] else 0\n",
    "            try:\n",
    "                dd = float(dd)\n",
    "            except:\n",
    "                dd = np.nan\n",
    "            try:\n",
    "                ad = float(ad)\n",
    "            except:\n",
    "                ad = np.nan\n",
    "            delayed = 1 if ((not np.isnan(dd) and dd >= 15) or (not np.isnan(ad) and ad >= 15)) else 0\n",
    "            delays.append(delayed)\n",
    "        df['is_delayed'] = delays\n",
    "        print(\"is_delayed sütunu oluşturuldu. Oran: %.2f%%\" % (100*df['is_delayed'].mean()))\n",
    "    else:\n",
    "        print(\"Uyarı: dep/arr delay sütunları bulunamadı, 'is_delayed' hedefi oluşturulamadı.\")\n"
   ]
  },
  {
   "cell_type": "markdown",
   "id": "2ea2e6e5",
   "metadata": {},
   "source": [
    "\n",
    "## Keşifsel Veri Analizi (EDA)\n",
    "Rötara en çok katkı yapan hava yolu, hat, şehir/ülke gibi kırılımları inceleyelim.\n"
   ]
  },
  {
   "cell_type": "code",
   "execution_count": null,
   "id": "6914c4b4",
   "metadata": {},
   "outputs": [],
   "source": [
    "\n",
    "def plot_rate_by(col_name, top_n=10):\n",
    "    if col_name not in df.columns:\n",
    "        print(f\"{col_name} sütunu yok.\")\n",
    "        return\n",
    "    if 'is_delayed' not in df.columns:\n",
    "        print(\"is_delayed yok, önce hedefi oluşturun.\")\n",
    "        return\n",
    "    \n",
    "    grp = df.groupby(col_name)['is_delayed'].mean().sort_values(ascending=False).head(top_n)\n",
    "    ax = grp.plot(kind='bar', figsize=(8,4), title=f\"Rötar Oranı - {col_name} (Top {top_n})\")\n",
    "    ax.set_ylabel(\"Oran\")\n",
    "    ax.set_xlabel(col_name)\n",
    "    plt.tight_layout()\n",
    "    plt.show()\n",
    "\n",
    "for c in [col_map['carrier'], col_map['origin'], col_map['dest'], col_map['city'], col_map['country']]:\n",
    "    if c is not None:\n",
    "        plot_rate_by(c)\n"
   ]
  },
  {
   "cell_type": "markdown",
   "id": "0d21d52e",
   "metadata": {},
   "source": [
    "\n",
    "## Zaman Serisi Analizi\n",
    "Tarihe göre günlük rötar trendi ve mevsimsellik.\n"
   ]
  },
  {
   "cell_type": "code",
   "execution_count": null,
   "id": "48df5e76",
   "metadata": {},
   "outputs": [],
   "source": [
    "\n",
    "if ('is_delayed' in df.columns) and (col_map['date'] is not None):\n",
    "    ts = df.set_index(col_map['date']).resample('D')['is_delayed'].sum().dropna()\n",
    "    if len(ts) > 10:\n",
    "        result = seasonal_decompose(ts, model='additive', period=7)\n",
    "        fig = result.plot()\n",
    "        fig.set_size_inches(10, 7)\n",
    "        plt.tight_layout()\n",
    "        plt.show()\n",
    "    else:\n",
    "        print(\"Zaman serisi yeterli uzunlukta değil.\")\n",
    "else:\n",
    "    print(\"Tarih veya is_delayed bulunamadı, zaman serisi analizi atlandı.\")\n"
   ]
  },
  {
   "cell_type": "markdown",
   "id": "19834039",
   "metadata": {},
   "source": [
    "\n",
    "## Sınıflandırma ile Rötar Tahmini\n",
    "Basit bir model (Logistic Regression / RandomForest) ile `is_delayed` tahmini.\n"
   ]
  },
  {
   "cell_type": "code",
   "execution_count": null,
   "id": "bdc756ee",
   "metadata": {},
   "outputs": [],
   "source": [
    "\n",
    "features = []\n",
    "for key in ['carrier', 'origin', 'dest', 'city', 'country', 'year', 'month', 'dayofweek', 'hour']:\n",
    "    col = col_map.get(key) if key in ['carrier','origin','dest','city','country'] else key\n",
    "    if col is not None and col in df.columns:\n",
    "        features.append(col)\n",
    "\n",
    "if 'is_delayed' in df.columns and len(features) > 0:\n",
    "    X = df[features].copy()\n",
    "    y = df['is_delayed'].astype(int)\n",
    "\n",
    "    num_cols = [c for c in ['year','month','dayofweek','hour'] if c in X.columns]\n",
    "    cat_cols = [c for c in X.columns if c not in num_cols]\n",
    "\n",
    "    pre = ColumnTransformer(\n",
    "        transformers=[\n",
    "            ('num', 'passthrough', num_cols),\n",
    "            ('cat', OneHotEncoder(handle_unknown='ignore', sparse_output=False), cat_cols)\n",
    "        ]\n",
    "    )\n",
    "\n",
    "    models = {\n",
    "        \"LogisticRegression\": LogisticRegression(max_iter=200),\n",
    "        \"RandomForest\": RandomForestClassifier(n_estimators=200, random_state=42)\n",
    "    }\n",
    "\n",
    "    for name, model in models.items():\n",
    "        clf = Pipeline(steps=[('pre', pre), ('model', model)])\n",
    "        X_train, X_test, y_train, y_test = train_test_split(X, y, test_size=0.2, random_state=42, stratify=y)\n",
    "        clf.fit(X_train, y_train)\n",
    "        y_pred = clf.predict(X_test)\n",
    "        print(f\"\\n=== {name} ===\")\n",
    "        print(classification_report(y_test, y_pred, digits=3))\n",
    "\n",
    "        try:\n",
    "            y_proba = clf.predict_proba(X_test)[:,1]\n",
    "            print(\"ROC-AUC:\", roc_auc_score(y_test, y_proba))\n",
    "        except Exception as e:\n",
    "            print(\"ROC-AUC hesaplanamadı:\", e)\n",
    "else:\n",
    "    print(\"Modelleme için hedef veya özellikler hazır değil.\")\n"
   ]
  },
  {
   "cell_type": "markdown",
   "id": "0b81da5c",
   "metadata": {},
   "source": [
    "\n",
    "## Sonuçlar ve Öneriler\n",
    "- Rötar oranı yüksek kırılımlar belirlendi.\n",
    "- Zaman serisi trendi ve mevsimselliğe dair içgörüler elde edildi.\n",
    "- Basit modellerle gecikme tahmini yapıldı.\n",
    "\n",
    "> Sonraki adımlar: Hava durumu, yoğunluk, tatiller gibi ek özelliklerle gelişmiş modeller (XGBoost/LightGBM).\n"
   ]
  },
  {
   "cell_type": "code",
   "execution_count": null,
   "id": "990704ad",
   "metadata": {},
   "outputs": [],
   "source": [
    "\n",
    "# (Opsiyonel) Örnek çıktı kaydet\n",
    "if 'is_delayed' in df.columns:\n",
    "    df.head(1000).to_csv('processed_sample.csv', index=False)\n",
    "    print(\"processed_sample.csv kaydedildi.\")\n"
   ]
  }
 ],
 "metadata": {
  "kernelspec": {
   "display_name": "Python 3",
   "name": "python3"
  }
 },
 "nbformat": 4,
 "nbformat_minor": 5
}
